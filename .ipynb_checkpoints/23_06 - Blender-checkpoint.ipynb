version https://git-lfs.github.com/spec/v1
oid sha256:70fd573bcadcebb5c99a3ee15e29000679e2d075389a0efcb1914d6ecbbacac1
size 5071
